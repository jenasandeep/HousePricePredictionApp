{
 "cells": [
  {
   "cell_type": "markdown",
   "id": "c67a59c3",
   "metadata": {},
   "source": [
    "# House Price Prediction\n",
    "Target column used: **SalePrice**"
   ]
  },
  {
   "cell_type": "code",
   "execution_count": null,
   "id": "91db838e",
   "metadata": {},
   "outputs": [],
   "source": [
    "import pandas as pd\n",
    "pd.read_csv(\"train.csv\").shape"
   ]
  },
  {
   "cell_type": "markdown",
   "id": "ebd8d482",
   "metadata": {},
   "source": [
    "## Preprocessing and Model Training"
   ]
  },
  {
   "cell_type": "code",
   "execution_count": null,
   "id": "46270c27",
   "metadata": {},
   "outputs": [],
   "source": [
    "\n",
    "import numpy as np\n",
    "from sklearn.model_selection import train_test_split\n",
    "from sklearn.impute import SimpleImputer\n",
    "from sklearn.preprocessing import StandardScaler, OneHotEncoder\n",
    "from sklearn.pipeline import Pipeline\n",
    "from sklearn.compose import ColumnTransformer\n",
    "from sklearn.linear_model import LinearRegression, Ridge\n",
    "from sklearn.ensemble import RandomForestRegressor\n",
    "from sklearn.metrics import r2_score, mean_squared_error, accuracy_score, f1_score\n",
    "import pickle\n",
    "train = pd.read_csv(\"train.csv\")\n",
    "target = \"SalePrice\"\n",
    "X = train.drop(columns=[target] + ([\"Id\"] if \"Id\" in train.columns else []))\n",
    "y = train[target]\n",
    "numeric_features = X.select_dtypes(include=[np.number]).columns.tolist()\n",
    "categorical_features = X.select_dtypes(exclude=[np.number]).columns.tolist()\n",
    "numeric_transformer = Pipeline(steps=[(\"imputer\", SimpleImputer(strategy=\"median\")),(\"scaler\", StandardScaler())])\n",
    "categorical_transformer = Pipeline(steps=[(\"imputer\", SimpleImputer(strategy=\"constant\", fill_value=\"Missing\")),(\"onehot\", OneHotEncoder(handle_unknown=\"ignore\", sparse=False))])\n",
    "preprocessor = ColumnTransformer(transformers=[(\"num\", numeric_transformer, numeric_features),(\"cat\", categorical_transformer, categorical_features)], sparse_threshold=0)\n",
    "X_train, X_val, y_train, y_val = train_test_split(X, y, test_size=0.2, random_state=42)\n",
    "models = {\"LinearRegression\": LinearRegression(), \"RidgeRegression\": Ridge(alpha=1.0, random_state=42), \"RandomForest\": RandomForestRegressor(n_estimators=100, random_state=42, n_jobs=-1)}\n",
    "results = {}\n",
    "pipelines = {}\n",
    "for name, model in models.items():\n",
    "    pipe = Pipeline(steps=[(\"preprocessor\", preprocessor), (\"model\", model)])\n",
    "    pipe.fit(X_train, y_train)\n",
    "    preds = pipe.predict(X_val)\n",
    "    r2 = r2_score(y_val, preds)\n",
    "    rmse = mean_squared_error(y_val, preds, squared=False)\n",
    "    bins = np.quantile(y_train, [0, 0.33, 0.66, 1.0])\n",
    "    def to_cat(arr): return np.digitize(arr, bins[1:-1])\n",
    "    y_val_cat = to_cat(y_val.values)\n",
    "    preds_cat = to_cat(preds)\n",
    "    acc = accuracy_score(y_val_cat, preds_cat)\n",
    "    f1 = f1_score(y_val_cat, preds_cat, average=\"macro\")\n",
    "    results[name] = dict(r2=float(r2), rmse=float(rmse), accuracy=float(acc), f1_macro=float(f1))\n",
    "    pipelines[name] = pipe\n",
    "results\n"
   ]
  },
  {
   "cell_type": "markdown",
   "id": "2a70962b",
   "metadata": {},
   "source": [
    "## Save best model to model.pkl"
   ]
  },
  {
   "cell_type": "code",
   "execution_count": null,
   "id": "318e1c49",
   "metadata": {},
   "outputs": [],
   "source": [
    "\n",
    "best_name = min(results.keys(), key=lambda n: results[n]['rmse'])\n",
    "best_pipeline = pipelines[best_name]\n",
    "artifact = {'model_name': best_name, 'pipeline': best_pipeline, 'feature_columns': X.columns.tolist(), 'numeric_features': numeric_features, 'categorical_features': categorical_features, 'target_col': target}\n",
    "with open(\"model.pkl\",\"wb\") as f:\n",
    "    pickle.dump(artifact, f)\n",
    "print(\"Saved\", best_name)\n"
   ]
  }
 ],
 "metadata": {},
 "nbformat": 4,
 "nbformat_minor": 5
}
